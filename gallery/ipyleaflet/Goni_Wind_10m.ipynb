{
 "cells": [
  {
   "cell_type": "markdown",
   "metadata": {},
   "source": [
    "# Goni_Wind_10m"
   ]
  },
  {
   "cell_type": "markdown",
   "metadata": {},
   "source": [
    "### This notebook uses [ipyleaflet](https://ipyleaflet.readthedocs.io/en/latest/) to display an animated wind velocity flow field, a la https://earth.nullschool.net or  https://www.windy.com/ "
   ]
  },
  {
   "cell_type": "markdown",
   "metadata": {},
   "source": [
    "#### Original notebook made November 2020 with python == 3.7.6, xarray == 0.16.0 and ipyleaflet == 0.13.1"
   ]
  },
  {
   "cell_type": "code",
   "execution_count": null,
   "metadata": {},
   "outputs": [],
   "source": [
    "import datetime\n",
    "from ipyleaflet import Map, TileLayer, basemaps\n",
    "from ipyleaflet.velocity import Velocity\n",
    "import xarray as xr"
   ]
  },
  {
   "cell_type": "markdown",
   "metadata": {},
   "source": [
    "### Read in a dataset containing 0-hour forecast data from the 0.25 degree GFS around the time of Goni's landfall."
   ]
  },
  {
   "cell_type": "code",
   "execution_count": null,
   "metadata": {},
   "outputs": [],
   "source": [
    "ds = xr.open_dataset('http://thredds.atmos.albany.edu:8080/thredds/dodsC/GRIB2/goni/goni_gfs.grib2')"
   ]
  },
  {
   "cell_type": "code",
   "execution_count": null,
   "metadata": {},
   "outputs": [],
   "source": [
    "# Examine the dataset\n",
    "ds"
   ]
  },
  {
   "cell_type": "code",
   "execution_count": null,
   "metadata": {},
   "outputs": [],
   "source": [
    "# Select the 31 October 2020 1800 UTC analysis time and the 20m AGL level (this is the lowest level in the dataset)\n",
    "u = ds['u-component_of_wind_height_above_ground'].sel(time='2020-10-31-18:00',height_above_ground1=20)\n",
    "v = ds['v-component_of_wind_height_above_ground'].sel(time='2020-10-31-18:00',height_above_ground1=20)"
   ]
  },
  {
   "cell_type": "markdown",
   "metadata": {},
   "source": [
    "### Create a Dataset that contains just the 20m U and V wind components, since that's what we'll pass to the `Velocity` method of ipyleaflet.\n",
    "(Perhaps there is a more efficient way of doing this?)"
   ]
  },
  {
   "cell_type": "code",
   "execution_count": null,
   "metadata": {},
   "outputs": [],
   "source": [
    "# First create the Dataset out of the 'u' Dataarray\n",
    "uv = u.to_dataset()"
   ]
  },
  {
   "cell_type": "code",
   "execution_count": null,
   "metadata": {},
   "outputs": [],
   "source": [
    "# Append v to the Dataset\n",
    "uv['v'] = v"
   ]
  },
  {
   "cell_type": "code",
   "execution_count": null,
   "metadata": {},
   "outputs": [],
   "source": [
    "# Rename the u DataArray to 'u'\n",
    "name_dict = {'u-component_of_wind_height_above_ground':'u'}\n",
    "uv = uv.rename_vars(name_dict)"
   ]
  },
  {
   "cell_type": "code",
   "execution_count": null,
   "metadata": {},
   "outputs": [],
   "source": [
    "# Verify that the Dataset looks ok\n",
    "uv"
   ]
  },
  {
   "cell_type": "markdown",
   "metadata": {},
   "source": [
    "### Create an ipyleaflet map object; center it, specify a zoom level, and select a background map; create and add a velocity layer from the Dataset that contains u and v."
   ]
  },
  {
   "cell_type": "code",
   "execution_count": null,
   "metadata": {},
   "outputs": [],
   "source": [
    "center = (13.25, 124.75)\n",
    "zoom = 6\n",
    "m = Map(center=center, zoom=zoom, interpolation='nearest', basemap=basemaps.CartoDB.DarkMatter)\n",
    "\n",
    "\n",
    "display_options = {\n",
    "    'velocityType': 'Global Wind',\n",
    "    'displayPosition': 'bottomleft',\n",
    "    'displayEmptyString': 'No wind data'\n",
    "}\n",
    "wind = Velocity(data=uv,\n",
    "                zonal_speed='u',\n",
    "                meridional_speed='v',\n",
    "                latitude_dimension='lat',\n",
    "                longitude_dimension='lon',\n",
    "                velocity_scale=0.01,\n",
    "                max_velocity=120,\n",
    "                display_options=display_options)\n",
    "m.add_layer(wind)"
   ]
  },
  {
   "cell_type": "markdown",
   "metadata": {},
   "source": [
    "### Display the map."
   ]
  },
  {
   "cell_type": "code",
   "execution_count": null,
   "metadata": {},
   "outputs": [],
   "source": [
    "m"
   ]
  },
  {
   "cell_type": "code",
   "execution_count": null,
   "metadata": {},
   "outputs": [],
   "source": []
  }
 ],
 "metadata": {
  "kernelspec": {
   "display_name": "Python 3",
   "language": "python",
   "name": "python3"
  },
  "language_info": {
   "codemirror_mode": {
    "name": "ipython",
    "version": 3
   },
   "file_extension": ".py",
   "mimetype": "text/x-python",
   "name": "python",
   "nbconvert_exporter": "python",
   "pygments_lexer": "ipython3",
   "version": "3.7.6"
  }
 },
 "nbformat": 4,
 "nbformat_minor": 2
}
